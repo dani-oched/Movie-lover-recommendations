{
 "cells": [
  {
   "cell_type": "code",
   "execution_count": 13,
   "metadata": {},
   "outputs": [],
   "source": [
    "import requests\n",
    "from bs4 import BeautifulSoup"
   ]
  },
  {
   "cell_type": "code",
   "execution_count": 39,
   "metadata": {},
   "outputs": [],
   "source": [
    "def getSoup(url):\n",
    "    response = requests.get(url)\n",
    "    html_content = response.content\n",
    "    soup = BeautifulSoup(html_content, 'html.parser')\n",
    "    return soup\n",
    "\n",
    "def getFilmCount(soup) -> int:\n",
    "    film_count = soup.find(class_='js-watchlist-count').text\n",
    "    res, i = '', 0\n",
    "    while film_count[i].isdigit():\n",
    "        res += film_count[i]\n",
    "        i += 1\n",
    "    return int(res)\n",
    "\n",
    "def getFilmTitles(soup) -> list():\n",
    "    poster_containers = soup.find_all('li', class_='poster-container')\n",
    "    titles = []\n",
    "    for poster_container in poster_containers:\n",
    "        title = poster_container.find(\"div\")['data-film-slug']\n",
    "        titles.append(title)\n",
    "    return titles\n",
    "\n",
    "def getAllFilmTitles(user: str, n_page = 28) -> list():\n",
    "    url = f'https://letterboxd.com/{user}/watchlist/'\n",
    "    soup = getSoup(url)\n",
    "    film_count = getFilmCount(soup)\n",
    "    page_count = film_count//28 + 1\n",
    "\n",
    "    titles = []\n",
    "    for i in range(1, page_count + 1):\n",
    "        new_url = url + 'page/' + str(i)\n",
    "        new_soup = getSoup(new_url)\n",
    "        titles += getFilmTitles(new_soup)\n",
    "    return titles\n",
    "\n",
    "titles = getAllFilmTitles('ClassyDan')"
   ]
  },
  {
   "cell_type": "code",
   "execution_count": 40,
   "metadata": {},
   "outputs": [
    {
     "name": "stdout",
     "output_type": "stream",
     "text": [
      "264\n"
     ]
    }
   ],
   "source": [
    "print(len(titles))"
   ]
  },
  {
   "cell_type": "code",
   "execution_count": null,
   "metadata": {},
   "outputs": [],
   "source": []
  }
 ],
 "metadata": {
  "kernelspec": {
   "display_name": "base",
   "language": "python",
   "name": "python3"
  },
  "language_info": {
   "codemirror_mode": {
    "name": "ipython",
    "version": 3
   },
   "file_extension": ".py",
   "mimetype": "text/x-python",
   "name": "python",
   "nbconvert_exporter": "python",
   "pygments_lexer": "ipython3",
   "version": "3.8.18"
  }
 },
 "nbformat": 4,
 "nbformat_minor": 2
}
