{
 "cells": [
  {
   "cell_type": "code",
   "execution_count": 13,
   "metadata": {},
   "outputs": [],
   "source": [
    "import requests\n",
    "from bs4 import BeautifulSoup"
   ]
  },
  {
   "cell_type": "code",
   "execution_count": 51,
   "metadata": {},
   "outputs": [],
   "source": [
    "### Obtain all films in watchlist ###\n",
    "\n",
    "def getSoup(url):\n",
    "    response = requests.get(url)\n",
    "    html_content = response.content\n",
    "    soup = BeautifulSoup(html_content, 'html.parser')\n",
    "    return soup\n",
    "\n",
    "class lbWatchlist():\n",
    "    def __init__(self, user):\n",
    "        self.user = user\n",
    "        self.n_page = 28\n",
    "        self.getAllFilmTitles()\n",
    "\n",
    "    def getFilmCount(self, soup) -> int:\n",
    "        film_count = soup.find(class_='js-watchlist-count').text\n",
    "        res, i = '', 0\n",
    "        while film_count[i].isdigit():\n",
    "            res += film_count[i]\n",
    "            i += 1\n",
    "        return int(res)\n",
    "\n",
    "    def getFilmTitles(self, soup) -> list():\n",
    "        poster_containers = soup.find_all('li', class_='poster-container')\n",
    "        titles = []\n",
    "        for poster_container in poster_containers:\n",
    "            title = poster_container.find(\"div\")['data-film-slug']\n",
    "            titles.append(title)\n",
    "        return titles\n",
    "\n",
    "    def getAllFilmTitles(self) -> list():\n",
    "        url = f'https://letterboxd.com/{self.user}/watchlist/'\n",
    "        soup = getSoup(url)\n",
    "        self.film_count = self.getFilmCount(soup)\n",
    "        self.page_count = self.film_count//self.n_page + 1\n",
    "\n",
    "        titles = []\n",
    "        for i in range(1, self.page_count + 1):\n",
    "            new_url = url + 'page/' + str(i)\n",
    "            new_soup = getSoup(new_url)\n",
    "            titles += self.getFilmTitles(new_soup)\n",
    "\n",
    "        try:\n",
    "            assert len(titles) == self.film_count, 'Film number incorrect'\n",
    "        except AssertionError as msg:\n",
    "            print(msg)\n",
    "\n",
    "        self.titles = titles"
   ]
  },
  {
   "cell_type": "code",
   "execution_count": 59,
   "metadata": {},
   "outputs": [],
   "source": [
    "kar_watchlist = lbWatchlist('kurstboy')\n",
    "jay_watchlist = lbWatchlist('jay')"
   ]
  },
  {
   "cell_type": "code",
   "execution_count": 60,
   "metadata": {},
   "outputs": [],
   "source": [
    "def getAllCommonFilms(*film_lists):\n",
    "    if not film_lists:\n",
    "        return set()\n",
    "    common_films = set(film_lists[0])\n",
    "    for film_list in film_lists:\n",
    "        common_films &= set(film_list)\n",
    "    return common_films"
   ]
  },
  {
   "cell_type": "code",
   "execution_count": 61,
   "metadata": {},
   "outputs": [
    {
     "data": {
      "text/plain": [
       "{'a-brighter-summer-day',\n",
       " 'a-separation',\n",
       " 'altered-states',\n",
       " 'amadeus',\n",
       " 'basquiat',\n",
       " 'battle-of-the-sexes-2017',\n",
       " 'big-trouble-in-little-china',\n",
       " 'brawl-in-cell-block-99',\n",
       " 'broadcast-news',\n",
       " 'daddy-longlegs',\n",
       " 'dancer-in-the-dark',\n",
       " 'dawn-of-the-dead',\n",
       " 'existenz',\n",
       " 'grizzly-man',\n",
       " 'kes',\n",
       " 'lavventura',\n",
       " 'lost-river',\n",
       " 'margaret',\n",
       " 'mollys-game',\n",
       " 'naked-lunch',\n",
       " 'out-of-the-blue',\n",
       " 'ratcatcher',\n",
       " 'shirkers',\n",
       " 'taipei-story',\n",
       " 'the-fall',\n",
       " 'the-invitation-2015',\n",
       " 'the-old-man-the-gun',\n",
       " 'the-piano-teacher',\n",
       " 'the-thin-red-line',\n",
       " 'the-turin-horse',\n",
       " 'the-untouchables',\n",
       " 'the-wailing',\n",
       " 'to-kill-a-mockingbird'}"
      ]
     },
     "execution_count": 61,
     "metadata": {},
     "output_type": "execute_result"
    }
   ],
   "source": [
    "kar_films = kar_watchlist.titles\n",
    "jay_films = jay_watchlist.titles\n",
    "getAllCommonFilms(kar_films, jay_films)"
   ]
  },
  {
   "cell_type": "code",
   "execution_count": 55,
   "metadata": {},
   "outputs": [
    {
     "name": "stdout",
     "output_type": "stream",
     "text": [
      "264\n"
     ]
    }
   ],
   "source": [
    "### TDL\n",
    "# Add user search\n",
    "# Add friend search by comparing follows with followers\n",
    "# Add genre search\n",
    "# Multiple users"
   ]
  },
  {
   "cell_type": "code",
   "execution_count": null,
   "metadata": {},
   "outputs": [],
   "source": []
  }
 ],
 "metadata": {
  "kernelspec": {
   "display_name": "base",
   "language": "python",
   "name": "python3"
  },
  "language_info": {
   "codemirror_mode": {
    "name": "ipython",
    "version": 3
   },
   "file_extension": ".py",
   "mimetype": "text/x-python",
   "name": "python",
   "nbconvert_exporter": "python",
   "pygments_lexer": "ipython3",
   "version": "3.8.18"
  }
 },
 "nbformat": 4,
 "nbformat_minor": 2
}
